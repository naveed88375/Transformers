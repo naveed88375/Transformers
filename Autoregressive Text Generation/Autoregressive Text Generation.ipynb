{
 "cells": [
  {
   "cell_type": "markdown",
   "id": "20718793",
   "metadata": {},
   "source": [
    "# Required Packages"
   ]
  },
  {
   "cell_type": "code",
   "execution_count": 1,
   "id": "fa576b8e",
   "metadata": {},
   "outputs": [],
   "source": [
    "import tensorflow as tf\n",
    "import numpy as np\n",
    "import matplotlib.pyplot as plt"
   ]
  },
  {
   "cell_type": "markdown",
   "id": "5a1e179b",
   "metadata": {},
   "source": [
    "# Load and Pre-process Dataset"
   ]
  },
  {
   "cell_type": "code",
   "execution_count": 2,
   "id": "cd2b37c5",
   "metadata": {},
   "outputs": [],
   "source": [
    "# Load the Shakespeare dataset from a file\n",
    "def load_shakespeare_from_file(file_path):\n",
    "    with open(file_path, 'r') as file:\n",
    "        text = file.read()\n",
    "    return text\n",
    "\n",
    "# Load and preprocess data\n",
    "file_path = 'input.txt'  # Path to your text file\n",
    "text = load_shakespeare_from_file(file_path)"
   ]
  },
  {
   "cell_type": "code",
   "execution_count": 3,
   "id": "6747ccd9",
   "metadata": {},
   "outputs": [],
   "source": [
    "# Preprocess the text data: Tokenize and encode\n",
    "def preprocess_text(text):\n",
    "    #Tokenizer object\n",
    "    tokenizer = tf.keras.preprocessing.text.Tokenizer(filters='', lower=False, oov_token='<UNK>')\n",
    "    #Text to sequences\n",
    "    tokenizer.fit_on_texts([text])\n",
    "    sequences = tokenizer.texts_to_sequences([text])[0]\n",
    "    #Tokens index\n",
    "    word_index = tokenizer.word_index\n",
    "    index_word = tokenizer.index_word\n",
    "    return sequences, word_index, index_word, tokenizer\n",
    "\n",
    "# Create training sequences\n",
    "def create_training_sequences(sequences, seq_length):\n",
    "    inputs = []\n",
    "    targets = []\n",
    "    for i in range(len(sequences) - seq_length):\n",
    "        inputs.append(sequences[i:i+seq_length])\n",
    "        targets.append(sequences[i+1:i+seq_length+1])\n",
    "    return np.array(inputs), np.array(targets)\n",
    "\n",
    "\n",
    "#get sequences\n",
    "sequences, word_index, index_word, tokenizer = preprocess_text(text)\n",
    "\n",
    "#vocabulary size\n",
    "vocab_size = len(word_index) + 1  # Plus one for the OOV token\n",
    "seq_length = 20\n",
    "#Prepare data for auto-regressive learning\n",
    "inputs, targets = create_training_sequences(sequences, seq_length)\n",
    "\n",
    "# Create TensorFlow dataset\n",
    "batch_size = 128\n",
    "dataset = tf.data.Dataset.from_tensor_slices((inputs, targets))\n",
    "dataset = dataset.shuffle(buffer_size=10000).batch(batch_size, drop_remainder=True)"
   ]
  },
  {
   "cell_type": "markdown",
   "id": "d420d2bc",
   "metadata": {},
   "source": [
    "# Auto-regressive Decoder"
   ]
  },
  {
   "cell_type": "code",
   "execution_count": 4,
   "id": "711ad0ab",
   "metadata": {},
   "outputs": [],
   "source": [
    "class SimpleTransformer(tf.keras.Model):\n",
    "    def __init__(self, vocab_size, d_model):\n",
    "        super(SimpleTransformer, self).__init__()\n",
    "        #embedding and positional encoding layers\n",
    "        self.embedding = tf.keras.layers.Embedding(vocab_size, d_model)\n",
    "        self.positional_encoding = self.get_positional_encoding(vocab_size, d_model)\n",
    "        \n",
    "        #Query, Key and Value weight matrices\n",
    "        self.wq = tf.keras.layers.Dense(d_model)\n",
    "        self.wk = tf.keras.layers.Dense(d_model)\n",
    "        self.wv = tf.keras.layers.Dense(d_model)\n",
    "        \n",
    "        #output layer\n",
    "        self.dense = tf.keras.layers.Dense(d_model)\n",
    "        self.output_dense = tf.keras.layers.Dense(vocab_size)\n",
    "\n",
    "    #Positional encoding\n",
    "    def get_positional_encoding(self, position, d_model):\n",
    "        #get angles\n",
    "        angle_rads = self.get_angles(np.arange(position)[:, np.newaxis], np.arange(d_model)[np.newaxis, :], d_model)\n",
    "        #apply sine to even and cosine to odd dimensions\n",
    "        angle_rads[:, 0::2] = np.sin(angle_rads[:, 0::2])\n",
    "        angle_rads[:, 1::2] = np.cos(angle_rads[:, 1::2])\n",
    "        #add new axis and convert to tensor\n",
    "        pos_encoding = angle_rads[np.newaxis, ...]\n",
    "        return tf.cast(pos_encoding, dtype=tf.float32)\n",
    "    \n",
    "    #angles for the encodings\n",
    "    def get_angles(self, pos, i, d_model):\n",
    "        angle_rates = 1 / np.power(10000, (2 * (i // 2)) / np.float32(d_model))\n",
    "        return pos * angle_rates\n",
    "    \n",
    "    #Create causal mask\n",
    "    def create_causal_mask(self, seq_len):\n",
    "        mask = 1 - tf.linalg.band_part(tf.ones((seq_len, seq_len)), -1, 0)\n",
    "        return mask[tf.newaxis, :, :]  # Add only the batch dimension\n",
    "    \n",
    "    #model forward pass\n",
    "    def call(self, x):\n",
    "        #sequence length\n",
    "        seq_len = tf.shape(x)[1]\n",
    "        #embeddings and positional encodings\n",
    "        x = self.embedding(x)\n",
    "        x += self.positional_encoding[:, :seq_len, :]\n",
    "        \n",
    "        #create mask\n",
    "        causal_mask = self.create_causal_mask(seq_len)\n",
    "        \n",
    "        #Query, key and value matrix\n",
    "        q = self.wq(x)\n",
    "        k = self.wk(x)\n",
    "        v = self.wv(x)\n",
    "        \n",
    "        #compute attention score and normalize\n",
    "        matmul_qk = tf.matmul(q, k, transpose_b=True)\n",
    "        dk = tf.cast(tf.shape(k)[-1], tf.float32)\n",
    "        scaled_attention_logits = matmul_qk / tf.math.sqrt(dk)\n",
    "\n",
    "        if causal_mask is not None:\n",
    "            # add high negative value to upper values\n",
    "            scaled_attention_logits += (causal_mask * -1e9)\n",
    "        \n",
    "        #apply softmax and compute attention output\n",
    "        attention_weights = tf.nn.softmax(scaled_attention_logits, axis=-1)\n",
    "        attention_output = tf.matmul(attention_weights, v)\n",
    "        \n",
    "        #fully connected layer\n",
    "        output = self.dense(attention_output)\n",
    "        \n",
    "        #model output\n",
    "        output = self.output_dense(output)\n",
    "        return output"
   ]
  },
  {
   "cell_type": "code",
   "execution_count": 5,
   "id": "e7637f77",
   "metadata": {},
   "outputs": [
    {
     "name": "stdout",
     "output_type": "stream",
     "text": [
      "Epoch 1/10\n",
      "1327/1327 [==============================] - 33s 24ms/step - loss: 7.3447\n",
      "Epoch 2/10\n",
      "1327/1327 [==============================] - 32s 24ms/step - loss: 6.2519\n",
      "Epoch 3/10\n",
      "1327/1327 [==============================] - 32s 24ms/step - loss: 5.3566\n",
      "Epoch 4/10\n",
      "1327/1327 [==============================] - 33s 25ms/step - loss: 4.6325\n",
      "Epoch 5/10\n",
      "1327/1327 [==============================] - 33s 25ms/step - loss: 4.0677\n",
      "Epoch 6/10\n",
      "1327/1327 [==============================] - 33s 25ms/step - loss: 3.6585\n",
      "Epoch 7/10\n",
      "1327/1327 [==============================] - 33s 25ms/step - loss: 3.3525\n",
      "Epoch 8/10\n",
      "1327/1327 [==============================] - 33s 25ms/step - loss: 3.0795\n",
      "Epoch 9/10\n",
      "1327/1327 [==============================] - 33s 25ms/step - loss: 2.8351\n",
      "Epoch 10/10\n",
      "1327/1327 [==============================] - 33s 25ms/step - loss: 2.6200\n"
     ]
    }
   ],
   "source": [
    "# model dimension\n",
    "d_model = 32\n",
    "\n",
    "# Create the model\n",
    "model = SimpleTransformer(vocab_size, d_model)\n",
    "\n",
    "# Compile the model\n",
    "model.compile(optimizer='adam', loss=tf.keras.losses.SparseCategoricalCrossentropy(from_logits=True))\n",
    "\n",
    "# Train the model\n",
    "epochs = 10\n",
    "history = model.fit(dataset, epochs=epochs)"
   ]
  },
  {
   "cell_type": "code",
   "execution_count": 6,
   "id": "1d6d35b0",
   "metadata": {},
   "outputs": [
    {
     "data": {
      "image/png": "[encoded data removed]",
      "text/plain": [
       "<Figure size 1000x800 with 1 Axes>"
      ]
     },
     "metadata": {},
     "output_type": "display_data"
    }
   ],
   "source": [
    "#Model Learning Curve\n",
    "plt.figure(figsize=(10,8),dpi=100)\n",
    "plt.plot(range(epochs), history.history['loss'])\n",
    "plt.grid()\n",
    "plt.xlabel(\"Epochs\")\n",
    "plt.ylabel(\"Loss\")\n",
    "plt.title(\"Model loss against training epochs\");"
   ]
  },
  {
   "cell_type": "code",
   "execution_count": 7,
   "id": "0e060b76",
   "metadata": {},
   "outputs": [
    {
     "name": "stdout",
     "output_type": "stream",
     "text": [
      "Generated text: To be or not to be desert,--\n",
      "\n",
      "SEBASTIAN:\n",
      "Ha, ha, ha! So, you're paid.\n",
      "\n",
      "ADRIAN:\n",
      "Uninhabitable and almost inaccessible,--\n",
      "\n",
      "SEBASTIAN:\n",
      "Yet,--\n",
      "\n",
      "ADRIAN:\n",
      "Yet,--\n",
      "\n",
      "ANTONIO:\n",
      "He could not miss't.\n",
      "\n",
      "ADRIAN:\n",
      "It must be of so to curse. The red plague not to sleep.\n",
      "\n",
      "ANTONIO:\n",
      "Nor I; my comfort, but for the\n"
     ]
    }
   ],
   "source": [
    "# Test the model with some random input\n",
    "def generate_text(model, tokenizer, seq_length, seed_text, num_words):\n",
    "    for _ in range(num_words):\n",
    "        tokenized_input = tokenizer.texts_to_sequences([seed_text])[0]\n",
    "        tokenized_input = tf.constant(tokenized_input[-seq_length:])[tf.newaxis, :]\n",
    "        predictions = model(tokenized_input)\n",
    "        predicted_id = tf.argmax(predictions[0, -1, :]).numpy()\n",
    "        seed_text += ' ' + tokenizer.index_word.get(predicted_id)\n",
    "    return seed_text\n",
    "\n",
    "# Example of text generation\n",
    "seed_text = \"To be or not to be\"\n",
    "generated_text = generate_text(model, tokenizer, seq_length, seed_text, num_words=30)\n",
    "print(\"Generated text:\", generated_text)"
   ]
  },
  {
   "cell_type": "code",
   "execution_count": 8,
   "id": "8313cce4",
   "metadata": {},
   "outputs": [
    {
     "name": "stdout",
     "output_type": "stream",
     "text": [
      "Total number of parameters: 2747094\n"
     ]
    }
   ],
   "source": [
    "# Calculate the total number of parameters\n",
    "total_params = sum(layer.count_params() for layer in model.layers)\n",
    "print(f'Total number of parameters: {total_params}')"
   ]
  },
  {
   "cell_type": "markdown",
   "id": "b33c5e1d",
   "metadata": {},
   "source": [
    "# Model Shapes"
   ]
  },
  {
   "cell_type": "code",
   "execution_count": 9,
   "id": "8fa926a3",
   "metadata": {},
   "outputs": [
    {
     "name": "stdout",
     "output_type": "stream",
     "text": [
      "Embedding output shape: (2, 10, 512)\n",
      "Positional encoding shape before broadcasting: (1, 10, 512)\n",
      "Shape after adding positional encoding: (2, 10, 512)\n",
      "Causal mask shape: (1, 10, 10)\n",
      "Query shape: (2, 10, 512)\n",
      "Key shape: (2, 10, 512)\n",
      "Value shape: (2, 10, 512)\n",
      "Query weights shape: (512, 512)\n",
      "Key weights shape: (512, 512)\n",
      "Value weights shape: (512, 512)\n",
      "Attention weights shape: (2, 10, 10)\n",
      "Attention output shape: (2, 10, 512)\n",
      "Dense layer output shape: (2, 10, 512)\n",
      "Final output shape: (2, 10, 10000)\n"
     ]
    }
   ],
   "source": [
    "class SimpleTransformer(tf.keras.Model):\n",
    "    def __init__(self, vocab_size, d_model):\n",
    "        super(SimpleTransformer, self).__init__()\n",
    "        self.embedding = tf.keras.layers.Embedding(vocab_size, d_model)\n",
    "        self.positional_encoding = self.get_positional_encoding(vocab_size, d_model)\n",
    "        self.wq = tf.keras.layers.Dense(d_model)\n",
    "        self.wk = tf.keras.layers.Dense(d_model)\n",
    "        self.wv = tf.keras.layers.Dense(d_model)\n",
    "        self.dense = tf.keras.layers.Dense(d_model)\n",
    "        self.output_dense = tf.keras.layers.Dense(vocab_size)\n",
    "\n",
    "    def get_positional_encoding(self, position, d_model):\n",
    "        angle_rads = self.get_angles(np.arange(position)[:, np.newaxis], np.arange(d_model)[np.newaxis, :], d_model)\n",
    "        angle_rads[:, 0::2] = np.sin(angle_rads[:, 0::2])\n",
    "        angle_rads[:, 1::2] = np.cos(angle_rads[:, 1::2])\n",
    "        pos_encoding = angle_rads[np.newaxis, ...]\n",
    "        return tf.cast(pos_encoding, dtype=tf.float32)\n",
    "    \n",
    "    def get_angles(self, pos, i, d_model):\n",
    "        angle_rates = 1 / np.power(10000, (2 * (i // 2)) / np.float32(d_model))\n",
    "        return pos * angle_rates\n",
    "    \n",
    "    def create_causal_mask(self, seq_len):\n",
    "        mask = 1 - tf.linalg.band_part(tf.ones((seq_len, seq_len)), -1, 0)\n",
    "        return mask[tf.newaxis, :, :]  \n",
    "    \n",
    "    def call(self, x):\n",
    "        seq_len = tf.shape(x)[1]\n",
    "        x = self.embedding(x)\n",
    "        print(f\"Embedding output shape: {x.shape}\")\n",
    "        pos_enc = self.positional_encoding[:, :seq_len, :]\n",
    "        print(f\"Positional encoding shape before broadcasting: {pos_enc.shape}\")\n",
    "        x += pos_enc\n",
    "        print(f\"Shape after adding positional encoding: {x.shape}\")\n",
    "\n",
    "        causal_mask = self.create_causal_mask(seq_len)\n",
    "        print(f\"Causal mask shape: {causal_mask.shape}\")\n",
    "\n",
    "        q = self.wq(x)\n",
    "        k = self.wk(x)\n",
    "        v = self.wv(x)\n",
    "        print(f\"Query shape: {q.shape}\")\n",
    "        print(f\"Key shape: {k.shape}\")\n",
    "        print(f\"Value shape: {v.shape}\")\n",
    "\n",
    "        print(f\"Query weights shape: {self.wq.weights[0].shape}\")\n",
    "        print(f\"Key weights shape: {self.wk.weights[0].shape}\")\n",
    "        print(f\"Value weights shape: {self.wv.weights[0].shape}\")\n",
    "\n",
    "        matmul_qk = tf.matmul(q, k, transpose_b=True)\n",
    "        dk = tf.cast(tf.shape(k)[-1], tf.float32)\n",
    "        scaled_attention_logits = matmul_qk / tf.math.sqrt(dk)\n",
    "\n",
    "        if causal_mask is not None:\n",
    "            scaled_attention_logits += (causal_mask * -1e9)\n",
    "        \n",
    "        attention_weights = tf.nn.softmax(scaled_attention_logits, axis=-1)\n",
    "        print(f\"Attention weights shape: {attention_weights.shape}\")\n",
    "        attention_output = tf.matmul(attention_weights, v)\n",
    "        print(f\"Attention output shape: {attention_output.shape}\")\n",
    "\n",
    "        output = self.dense(attention_output)\n",
    "        print(f\"Dense layer output shape: {output.shape}\")\n",
    "\n",
    "        output = self.output_dense(output)\n",
    "        print(f\"Final output shape: {output.shape}\")\n",
    "        return output\n",
    "\n",
    "# Create the model\n",
    "vocab_size = 10000  # Example vocabulary size\n",
    "d_model = 512  # Example embedding dimension\n",
    "model = SimpleTransformer(vocab_size, d_model)\n",
    "\n",
    "# Generate random input data\n",
    "batch_size = 2\n",
    "seq_len = 10\n",
    "random_input = tf.random.uniform((batch_size, seq_len), minval=0, maxval=vocab_size, dtype=tf.int32)\n",
    "\n",
    "# Pass the random data through the model\n",
    "output = model(random_input)"
   ]
  }
 ],
 "metadata": {
  "kernelspec": {
   "display_name": "Python 3 (ipykernel)",
   "language": "python",
   "name": "python3"
  },
  "language_info": {
   "codemirror_mode": {
    "name": "ipython",
    "version": 3
   },
   "file_extension": ".py",
   "mimetype": "text/x-python",
   "name": "python",
   "nbconvert_exporter": "python",
   "pygments_lexer": "ipython3",
   "version": "3.9.18"
  }
 },
 "nbformat": 4,
 "nbformat_minor": 5
}
